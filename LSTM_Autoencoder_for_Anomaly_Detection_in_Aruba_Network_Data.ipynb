{
  "nbformat": 4,
  "nbformat_minor": 0,
  "metadata": {
    "colab": {
      "provenance": [],
      "gpuType": "T4",
      "mount_file_id": "1W5tyhpEVIqO65gB1UZQVHcyONba8JxQv",
      "authorship_tag": "ABX9TyP3v1fdyL8BzayYCASsanqt",
      "include_colab_link": true
    },
    "kernelspec": {
      "name": "python3",
      "display_name": "Python 3"
    },
    "language_info": {
      "name": "python"
    },
    "accelerator": "GPU"
  },
  "cells": [
    {
      "cell_type": "markdown",
      "metadata": {
        "id": "view-in-github",
        "colab_type": "text"
      },
      "source": [
        "<a href=\"https://colab.research.google.com/github/mohAhanin/Alzheimer/blob/main/LSTM_Autoencoder_for_Anomaly_Detection_in_Aruba_Network_Data.ipynb\" target=\"_parent\"><img src=\"https://colab.research.google.com/assets/colab-badge.svg\" alt=\"Open In Colab\"/></a>"
      ]
    },
    {
      "cell_type": "markdown",
      "source": [
        "The provided code snippet is a machine learning script that focuses on anomaly detection using an LSTM (Long Short-Term Memory) autoencoder model. Here’s a breakdown of what each part of the code does, and how it all fits together in the context of detecting anomalies in time-series data collected from sensors.\n",
        "\n",
        "### Overview\n",
        "\n",
        "The main goal of the script is to identify anomalies in time-series sensor data by reconstructing sequences of data points through an autoencoder model. Anomalies are detected by analyzing the reconstruction errors, which indicate how well the model can reconstruct the input data.\n",
        "\n",
        "### Key Components of the Code\n",
        "\n",
        "1. **Imports and Libraries**:\n",
        "   - The code imports necessary libraries for data manipulation (`pandas`, `numpy`), machine learning (`sklearn`, `tensorflow.keras`), and visualization (`matplotlib`).\n",
        "\n",
        "2. **Loading and Preprocessing Data**:\n",
        "   - The `load_data` function reads a CSV file containing sensor data, processes it, and converts the 'Date' and 'Time' columns into a single `DateTime` column. This data is then limited to a specified number of rows.\n",
        "   - **Example**:\n",
        "     ```python\n",
        "     normal_data = load_data(file_path='/content/drive/MyDrive/Copy of aruba.20100217-20240201_20240625.181859.txt')\n",
        "     ```\n",
        "\n",
        "3. **Creating Sequences**:\n",
        "   - The `create_sequences` function generates overlapping sequences of a specified length (60 time steps in this case). This is essential for training the LSTM model, which expects input in a sequential format.\n",
        "\n",
        "4. **Mounting Google Drive**:\n",
        "   - The script mounts Google Drive to access the dataset stored in a Google Drive folder, allowing for seamless data importation.\n",
        "\n",
        "5. **Preprocessing Data**:\n",
        "   - The data is converted into a format suitable for machine learning by using one-hot encoding for categorical variables (`Sensor` and `State`) and dropping unnecessary columns (`DateTime`, `Time`, `Date`).\n",
        "\n",
        "6. **Train-Test Split**:\n",
        "   - The dataset is split into training and testing sets using `train_test_split` from `sklearn`. This helps in evaluating the performance of the model on unseen data.\n",
        "\n",
        "7. **Building the LSTM Autoencoder Model**:\n",
        "   - The model is constructed using the Sequential API from Keras. It consists of:\n",
        "     - Two LSTM layers for encoding.\n",
        "     - A `RepeatVector` layer to prepare the encoded representation for decoding.\n",
        "     - Two LSTM layers for decoding.\n",
        "     - A `TimeDistributed` layer with a dense output to reconstruct the input sequence.\n",
        "   - **Example**:\n",
        "     ```python\n",
        "     model = Sequential([\n",
        "         LSTM(100, activation='tanh', input_shape=(X_train.shape[1], X_train.shape[2]), return_sequences=True),\n",
        "         LSTM(50, activation='tanh', return_sequences=False),\n",
        "         RepeatVector(X_train.shape[1]),\n",
        "         LSTM(50, activation='tanh', return_sequences=True),\n",
        "         LSTM(100, activation='tanh', return_sequences=True),\n",
        "         TimeDistributed(Dense(X_train.shape[2]))\n",
        "     ])\n",
        "     ```\n",
        "\n",
        "8. **Compiling the Model**:\n",
        "   - The model is compiled using the Adam optimizer and mean squared error (MSE) as the loss function.\n",
        "\n",
        "9. **Training the Model**:\n",
        "   - The model is trained on the training data with early stopping to prevent overfitting. The training progress is monitored through validation loss.\n",
        "\n",
        "10. **Evaluating the Model**:\n",
        "    - After training, the model predicts the output for both training and testing data, and the reconstruction error is computed as the mean squared error between the original and predicted data.\n",
        "\n",
        "11. **Setting a Threshold for Anomaly Detection**:\n",
        "    - A threshold is determined based on the reconstruction errors from the training set, allowing the identification of anomalies in the testing set based on whether the reconstruction error exceeds this threshold.\n",
        "\n",
        "12. **Identifying Anomalies**:\n",
        "    - Anomalies are flagged where the reconstruction error is greater than the defined threshold.\n",
        "\n",
        "13. **Printing Results**:\n",
        "    - The number of detected anomalies and their indices are printed to the console.\n",
        "\n",
        "14. **Plotting Reconstruction Error**:\n",
        "    - A histogram of the reconstruction errors is plotted to visualize the distribution of errors and the threshold, helping to understand the performance of the anomaly detection.\n",
        "\n",
        "### Example Output\n",
        "\n",
        "- **Number of anomalies**: This line will tell you how many anomalies were detected in the test dataset.\n",
        "- **Anomaly indices**: This line will provide the indices of the detected anomalies in the test set.\n",
        "- **Histogram**: A graphical representation of the reconstruction errors, showing how the training and testing errors compare against the set threshold.\n",
        "\n",
        "### Conclusion\n",
        "\n",
        "This code provides a complete pipeline for anomaly detection in time-series data using LSTM autoencoders. It covers data loading, preprocessing, model training, evaluation, and anomaly detection, making it a robust approach for monitoring sensor data and identifying unusual patterns that may indicate problems or failures in a system."
      ],
      "metadata": {
        "id": "8V270v8p6ODS"
      }
    },
    {
      "cell_type": "code",
      "execution_count": 1,
      "metadata": {
        "id": "1pvhyGS24roU"
      },
      "outputs": [],
      "source": [
        "import pandas as pd\n",
        "import numpy as np\n",
        "from sklearn.model_selection import train_test_split\n",
        "from tensorflow.keras.models import Sequential\n",
        "from tensorflow.keras.layers import LSTM, Dense, RepeatVector, TimeDistributed\n",
        "from tensorflow.keras.optimizers import Adam\n",
        "from tensorflow.keras.callbacks import EarlyStopping\n",
        "import matplotlib.pyplot as plt"
      ]
    },
    {
      "cell_type": "code",
      "source": [
        "# Load and preprocess data\n",
        "def load_data(file_path, num_rows=20000):\n",
        "    data = pd.read_csv(file_path, sep='\\s+', header=None,\n",
        "                       names=['Date', 'Time', 'Sensor', 'State'])\n",
        "    data = data.iloc[:num_rows,:]\n",
        "    data['DateTime'] = pd.to_datetime(data['Date'] + ' ' + data['Time'], format='%Y-%m-%d %H:%M:%S.%f')\n",
        "    return data"
      ],
      "metadata": {
        "id": "Lp3c3Cu_4wIh"
      },
      "execution_count": 2,
      "outputs": []
    },
    {
      "cell_type": "code",
      "source": [
        "# Function to create sequences\n",
        "def create_sequences(df, sequence_length=60):\n",
        "    sequences = []\n",
        "    for i in range(len(df) - sequence_length):\n",
        "        # The 'DateTime' column is already removed, no need to drop it here.\n",
        "        sequence = df.iloc[i:i+sequence_length].values\n",
        "        sequences.append(sequence)\n",
        "    return np.array(sequences)"
      ],
      "metadata": {
        "id": "JIzkdmnQ41po"
      },
      "execution_count": 3,
      "outputs": []
    },
    {
      "cell_type": "code",
      "source": [
        "# Mount Google Drive\n",
        "from google.colab import drive\n",
        "drive.mount('/content/drive')\n",
        "\n",
        "# Load normal data (after mounting)\n",
        "normal_data = load_data(file_path='/content/drive/MyDrive/Copy of aruba.20100217-20240201_20240625.181859.txt') # Make sure this path is correct\n"
      ],
      "metadata": {
        "id": "BaFMSfQ84466",
        "colab": {
          "base_uri": "https://localhost:8080/"
        },
        "outputId": "4250cef1-cf52-4f71-f462-9d5eb1a2d1c5"
      },
      "execution_count": 5,
      "outputs": [
        {
          "output_type": "stream",
          "name": "stdout",
          "text": [
            "Drive already mounted at /content/drive; to attempt to forcibly remount, call drive.mount(\"/content/drive\", force_remount=True).\n"
          ]
        }
      ]
    },
    {
      "cell_type": "code",
      "source": [
        "# Combine and preprocess data\n",
        "combined_data = pd.get_dummies(normal_data, columns=['Sensor', 'State'])\n",
        "combined_data = combined_data.drop(columns=['DateTime', 'Time', 'Date'])"
      ],
      "metadata": {
        "id": "GVga2yRL49no"
      },
      "execution_count": 6,
      "outputs": []
    },
    {
      "cell_type": "code",
      "source": [
        "# Create sequences\n",
        "X = create_sequences(combined_data)"
      ],
      "metadata": {
        "id": "u4ORQ95z5Mot"
      },
      "execution_count": 7,
      "outputs": []
    },
    {
      "cell_type": "code",
      "source": [
        "# Train-test split\n",
        "X_train, X_test = train_test_split(X, test_size=0.2, random_state=42)"
      ],
      "metadata": {
        "id": "4K1oM6L95QQI"
      },
      "execution_count": 10,
      "outputs": []
    },
    {
      "cell_type": "code",
      "source": [
        "# Convert data types\n",
        "X_train = X_train.astype('float32')\n",
        "X_test = X_test.astype('float32')"
      ],
      "metadata": {
        "id": "ce3CIaaY6PI5"
      },
      "execution_count": 11,
      "outputs": []
    },
    {
      "cell_type": "code",
      "source": [
        "# Build the autoencoder model\n",
        "model = Sequential([\n",
        "    LSTM(100, activation='tanh', input_shape=(X_train.shape[1], X_train.shape[2]), return_sequences=True),\n",
        "    LSTM(50, activation='tanh', return_sequences=False),\n",
        "    RepeatVector(X_train.shape[1]),\n",
        "    LSTM(50, activation='tanh', return_sequences=True),\n",
        "    LSTM(100, activation='tanh', return_sequences=True),\n",
        "    TimeDistributed(Dense(X_train.shape[2]))\n",
        "])"
      ],
      "metadata": {
        "id": "qVckkpLz6Pt7",
        "colab": {
          "base_uri": "https://localhost:8080/"
        },
        "outputId": "8bef96f0-385b-4d5d-82ad-45f6018d430d"
      },
      "execution_count": 12,
      "outputs": [
        {
          "output_type": "stream",
          "name": "stderr",
          "text": [
            "/usr/local/lib/python3.10/dist-packages/keras/src/layers/rnn/rnn.py:204: UserWarning: Do not pass an `input_shape`/`input_dim` argument to a layer. When using Sequential models, prefer using an `Input(shape)` object as the first layer in the model instead.\n",
            "  super().__init__(**kwargs)\n"
          ]
        }
      ]
    },
    {
      "cell_type": "code",
      "source": [
        "# Compile the model\n",
        "optimizer = Adam(learning_rate=0.001, clipnorm=1.0)\n",
        "model.compile(optimizer=optimizer, loss='mse')"
      ],
      "metadata": {
        "id": "ds85Cwdd6YMk"
      },
      "execution_count": 13,
      "outputs": []
    },
    {
      "cell_type": "code",
      "source": [
        "# Define early stopping\n",
        "early_stop = EarlyStopping(monitor='val_loss', patience=5, restore_best_weights=True)"
      ],
      "metadata": {
        "id": "zdH51gWs67mI"
      },
      "execution_count": 14,
      "outputs": []
    },
    {
      "cell_type": "code",
      "source": [
        "# Train the model\n",
        "history = model.fit(\n",
        "    X_train, X_train,\n",
        "    epochs=50,\n",
        "    batch_size=32,\n",
        "    validation_split=0.2,\n",
        "    callbacks=[early_stop],\n",
        "    verbose=1\n",
        ")"
      ],
      "metadata": {
        "colab": {
          "base_uri": "https://localhost:8080/"
        },
        "id": "30Odbg9l6-4z",
        "outputId": "3c895ff3-ff51-48d5-c29d-b9bc94caa824"
      },
      "execution_count": 15,
      "outputs": [
        {
          "output_type": "stream",
          "name": "stdout",
          "text": [
            "Epoch 1/50\n",
            "\u001b[1m399/399\u001b[0m \u001b[32m━━━━━━━━━━━━━━━━━━━━\u001b[0m\u001b[37m\u001b[0m \u001b[1m18s\u001b[0m 23ms/step - loss: 0.0371 - val_loss: 0.0345\n",
            "Epoch 2/50\n",
            "\u001b[1m399/399\u001b[0m \u001b[32m━━━━━━━━━━━━━━━━━━━━\u001b[0m\u001b[37m\u001b[0m \u001b[1m8s\u001b[0m 20ms/step - loss: 0.0344 - val_loss: 0.0342\n",
            "Epoch 3/50\n",
            "\u001b[1m399/399\u001b[0m \u001b[32m━━━━━━━━━━━━━━━━━━━━\u001b[0m\u001b[37m\u001b[0m \u001b[1m8s\u001b[0m 21ms/step - loss: 0.0343 - val_loss: 0.0340\n",
            "Epoch 4/50\n",
            "\u001b[1m399/399\u001b[0m \u001b[32m━━━━━━━━━━━━━━━━━━━━\u001b[0m\u001b[37m\u001b[0m \u001b[1m9s\u001b[0m 18ms/step - loss: 0.0341 - val_loss: 0.0338\n",
            "Epoch 5/50\n",
            "\u001b[1m399/399\u001b[0m \u001b[32m━━━━━━━━━━━━━━━━━━━━\u001b[0m\u001b[37m\u001b[0m \u001b[1m8s\u001b[0m 21ms/step - loss: 0.0339 - val_loss: 0.0335\n",
            "Epoch 6/50\n",
            "\u001b[1m399/399\u001b[0m \u001b[32m━━━━━━━━━━━━━━━━━━━━\u001b[0m\u001b[37m\u001b[0m \u001b[1m10s\u001b[0m 20ms/step - loss: 0.0335 - val_loss: 0.0331\n",
            "Epoch 7/50\n",
            "\u001b[1m399/399\u001b[0m \u001b[32m━━━━━━━━━━━━━━━━━━━━\u001b[0m\u001b[37m\u001b[0m \u001b[1m8s\u001b[0m 19ms/step - loss: 0.0332 - val_loss: 0.0330\n",
            "Epoch 8/50\n",
            "\u001b[1m399/399\u001b[0m \u001b[32m━━━━━━━━━━━━━━━━━━━━\u001b[0m\u001b[37m\u001b[0m \u001b[1m11s\u001b[0m 21ms/step - loss: 0.0330 - val_loss: 0.0328\n",
            "Epoch 9/50\n",
            "\u001b[1m399/399\u001b[0m \u001b[32m━━━━━━━━━━━━━━━━━━━━\u001b[0m\u001b[37m\u001b[0m \u001b[1m10s\u001b[0m 21ms/step - loss: 0.0329 - val_loss: 0.0326\n",
            "Epoch 10/50\n",
            "\u001b[1m399/399\u001b[0m \u001b[32m━━━━━━━━━━━━━━━━━━━━\u001b[0m\u001b[37m\u001b[0m \u001b[1m9s\u001b[0m 18ms/step - loss: 0.0327 - val_loss: 0.0324\n",
            "Epoch 11/50\n",
            "\u001b[1m399/399\u001b[0m \u001b[32m━━━━━━━━━━━━━━━━━━━━\u001b[0m\u001b[37m\u001b[0m \u001b[1m10s\u001b[0m 18ms/step - loss: 0.0325 - val_loss: 0.0323\n",
            "Epoch 12/50\n",
            "\u001b[1m399/399\u001b[0m \u001b[32m━━━━━━━━━━━━━━━━━━━━\u001b[0m\u001b[37m\u001b[0m \u001b[1m9s\u001b[0m 21ms/step - loss: 0.0324 - val_loss: 0.0322\n",
            "Epoch 13/50\n",
            "\u001b[1m399/399\u001b[0m \u001b[32m━━━━━━━━━━━━━━━━━━━━\u001b[0m\u001b[37m\u001b[0m \u001b[1m7s\u001b[0m 18ms/step - loss: 0.0322 - val_loss: 0.0321\n",
            "Epoch 14/50\n",
            "\u001b[1m399/399\u001b[0m \u001b[32m━━━━━━━━━━━━━━━━━━━━\u001b[0m\u001b[37m\u001b[0m \u001b[1m9s\u001b[0m 21ms/step - loss: 0.0321 - val_loss: 0.0320\n",
            "Epoch 15/50\n",
            "\u001b[1m399/399\u001b[0m \u001b[32m━━━━━━━━━━━━━━━━━━━━\u001b[0m\u001b[37m\u001b[0m \u001b[1m9s\u001b[0m 19ms/step - loss: 0.0320 - val_loss: 0.0320\n",
            "Epoch 16/50\n",
            "\u001b[1m399/399\u001b[0m \u001b[32m━━━━━━━━━━━━━━━━━━━━\u001b[0m\u001b[37m\u001b[0m \u001b[1m10s\u001b[0m 18ms/step - loss: 0.0319 - val_loss: 0.0317\n",
            "Epoch 17/50\n",
            "\u001b[1m399/399\u001b[0m \u001b[32m━━━━━━━━━━━━━━━━━━━━\u001b[0m\u001b[37m\u001b[0m \u001b[1m11s\u001b[0m 19ms/step - loss: 0.0317 - val_loss: 0.0316\n",
            "Epoch 18/50\n",
            "\u001b[1m399/399\u001b[0m \u001b[32m━━━━━━━━━━━━━━━━━━━━\u001b[0m\u001b[37m\u001b[0m \u001b[1m8s\u001b[0m 21ms/step - loss: 0.0317 - val_loss: 0.0315\n",
            "Epoch 19/50\n",
            "\u001b[1m399/399\u001b[0m \u001b[32m━━━━━━━━━━━━━━━━━━━━\u001b[0m\u001b[37m\u001b[0m \u001b[1m9s\u001b[0m 18ms/step - loss: 0.0315 - val_loss: 0.0314\n",
            "Epoch 20/50\n",
            "\u001b[1m399/399\u001b[0m \u001b[32m━━━━━━━━━━━━━━━━━━━━\u001b[0m\u001b[37m\u001b[0m \u001b[1m8s\u001b[0m 21ms/step - loss: 0.0314 - val_loss: 0.0313\n",
            "Epoch 21/50\n",
            "\u001b[1m399/399\u001b[0m \u001b[32m━━━━━━━━━━━━━━━━━━━━\u001b[0m\u001b[37m\u001b[0m \u001b[1m8s\u001b[0m 19ms/step - loss: 0.0313 - val_loss: 0.0312\n",
            "Epoch 22/50\n",
            "\u001b[1m399/399\u001b[0m \u001b[32m━━━━━━━━━━━━━━━━━━━━\u001b[0m\u001b[37m\u001b[0m \u001b[1m10s\u001b[0m 18ms/step - loss: 0.0312 - val_loss: 0.0312\n",
            "Epoch 23/50\n",
            "\u001b[1m399/399\u001b[0m \u001b[32m━━━━━━━━━━━━━━━━━━━━\u001b[0m\u001b[37m\u001b[0m \u001b[1m8s\u001b[0m 21ms/step - loss: 0.0311 - val_loss: 0.0310\n",
            "Epoch 24/50\n",
            "\u001b[1m399/399\u001b[0m \u001b[32m━━━━━━━━━━━━━━━━━━━━\u001b[0m\u001b[37m\u001b[0m \u001b[1m10s\u001b[0m 21ms/step - loss: 0.0310 - val_loss: 0.0310\n",
            "Epoch 25/50\n",
            "\u001b[1m399/399\u001b[0m \u001b[32m━━━━━━━━━━━━━━━━━━━━\u001b[0m\u001b[37m\u001b[0m \u001b[1m9s\u001b[0m 18ms/step - loss: 0.0310 - val_loss: 0.0309\n",
            "Epoch 26/50\n",
            "\u001b[1m399/399\u001b[0m \u001b[32m━━━━━━━━━━━━━━━━━━━━\u001b[0m\u001b[37m\u001b[0m \u001b[1m9s\u001b[0m 21ms/step - loss: 0.0309 - val_loss: 0.0307\n",
            "Epoch 27/50\n",
            "\u001b[1m399/399\u001b[0m \u001b[32m━━━━━━━━━━━━━━━━━━━━\u001b[0m\u001b[37m\u001b[0m \u001b[1m10s\u001b[0m 20ms/step - loss: 0.0308 - val_loss: 0.0307\n",
            "Epoch 28/50\n",
            "\u001b[1m399/399\u001b[0m \u001b[32m━━━━━━━━━━━━━━━━━━━━\u001b[0m\u001b[37m\u001b[0m \u001b[1m9s\u001b[0m 18ms/step - loss: 0.0307 - val_loss: 0.0307\n",
            "Epoch 29/50\n",
            "\u001b[1m399/399\u001b[0m \u001b[32m━━━━━━━━━━━━━━━━━━━━\u001b[0m\u001b[37m\u001b[0m \u001b[1m8s\u001b[0m 21ms/step - loss: 0.0306 - val_loss: 0.0305\n",
            "Epoch 30/50\n",
            "\u001b[1m399/399\u001b[0m \u001b[32m━━━━━━━━━━━━━━━━━━━━\u001b[0m\u001b[37m\u001b[0m \u001b[1m7s\u001b[0m 18ms/step - loss: 0.0305 - val_loss: 0.0304\n",
            "Epoch 31/50\n",
            "\u001b[1m399/399\u001b[0m \u001b[32m━━━━━━━━━━━━━━━━━━━━\u001b[0m\u001b[37m\u001b[0m \u001b[1m10s\u001b[0m 18ms/step - loss: 0.0304 - val_loss: 0.0303\n",
            "Epoch 32/50\n",
            "\u001b[1m399/399\u001b[0m \u001b[32m━━━━━━━━━━━━━━━━━━━━\u001b[0m\u001b[37m\u001b[0m \u001b[1m8s\u001b[0m 21ms/step - loss: 0.0303 - val_loss: 0.0302\n",
            "Epoch 33/50\n",
            "\u001b[1m399/399\u001b[0m \u001b[32m━━━━━━━━━━━━━━━━━━━━\u001b[0m\u001b[37m\u001b[0m \u001b[1m7s\u001b[0m 18ms/step - loss: 0.0303 - val_loss: 0.0302\n",
            "Epoch 34/50\n",
            "\u001b[1m399/399\u001b[0m \u001b[32m━━━━━━━━━━━━━━━━━━━━\u001b[0m\u001b[37m\u001b[0m \u001b[1m10s\u001b[0m 18ms/step - loss: 0.0302 - val_loss: 0.0301\n",
            "Epoch 35/50\n",
            "\u001b[1m399/399\u001b[0m \u001b[32m━━━━━━━━━━━━━━━━━━━━\u001b[0m\u001b[37m\u001b[0m \u001b[1m11s\u001b[0m 20ms/step - loss: 0.0301 - val_loss: 0.0301\n",
            "Epoch 36/50\n",
            "\u001b[1m399/399\u001b[0m \u001b[32m━━━━━━━━━━━━━━━━━━━━\u001b[0m\u001b[37m\u001b[0m \u001b[1m8s\u001b[0m 21ms/step - loss: 0.0300 - val_loss: 0.0300\n",
            "Epoch 37/50\n",
            "\u001b[1m399/399\u001b[0m \u001b[32m━━━━━━━━━━━━━━━━━━━━\u001b[0m\u001b[37m\u001b[0m \u001b[1m9s\u001b[0m 18ms/step - loss: 0.0299 - val_loss: 0.0299\n",
            "Epoch 38/50\n",
            "\u001b[1m399/399\u001b[0m \u001b[32m━━━━━━━━━━━━━━━━━━━━\u001b[0m\u001b[37m\u001b[0m \u001b[1m10s\u001b[0m 18ms/step - loss: 0.0298 - val_loss: 0.0299\n",
            "Epoch 39/50\n",
            "\u001b[1m399/399\u001b[0m \u001b[32m━━━━━━━━━━━━━━━━━━━━\u001b[0m\u001b[37m\u001b[0m \u001b[1m11s\u001b[0m 21ms/step - loss: 0.0298 - val_loss: 0.0297\n",
            "Epoch 40/50\n",
            "\u001b[1m399/399\u001b[0m \u001b[32m━━━━━━━━━━━━━━━━━━━━\u001b[0m\u001b[37m\u001b[0m \u001b[1m10s\u001b[0m 22ms/step - loss: 0.0297 - val_loss: 0.0297\n",
            "Epoch 41/50\n",
            "\u001b[1m399/399\u001b[0m \u001b[32m━━━━━━━━━━━━━━━━━━━━\u001b[0m\u001b[37m\u001b[0m \u001b[1m7s\u001b[0m 18ms/step - loss: 0.0297 - val_loss: 0.0296\n",
            "Epoch 42/50\n",
            "\u001b[1m399/399\u001b[0m \u001b[32m━━━━━━━━━━━━━━━━━━━━\u001b[0m\u001b[37m\u001b[0m \u001b[1m9s\u001b[0m 21ms/step - loss: 0.0295 - val_loss: 0.0298\n",
            "Epoch 43/50\n",
            "\u001b[1m399/399\u001b[0m \u001b[32m━━━━━━━━━━━━━━━━━━━━\u001b[0m\u001b[37m\u001b[0m \u001b[1m7s\u001b[0m 18ms/step - loss: 0.0295 - val_loss: 0.0296\n",
            "Epoch 44/50\n",
            "\u001b[1m399/399\u001b[0m \u001b[32m━━━━━━━━━━━━━━━━━━━━\u001b[0m\u001b[37m\u001b[0m \u001b[1m8s\u001b[0m 21ms/step - loss: 0.0294 - val_loss: 0.0295\n",
            "Epoch 45/50\n",
            "\u001b[1m399/399\u001b[0m \u001b[32m━━━━━━━━━━━━━━━━━━━━\u001b[0m\u001b[37m\u001b[0m \u001b[1m8s\u001b[0m 20ms/step - loss: 0.0293 - val_loss: 0.0295\n",
            "Epoch 46/50\n",
            "\u001b[1m399/399\u001b[0m \u001b[32m━━━━━━━━━━━━━━━━━━━━\u001b[0m\u001b[37m\u001b[0m \u001b[1m8s\u001b[0m 19ms/step - loss: 0.0293 - val_loss: 0.0294\n",
            "Epoch 47/50\n",
            "\u001b[1m399/399\u001b[0m \u001b[32m━━━━━━━━━━━━━━━━━━━━\u001b[0m\u001b[37m\u001b[0m \u001b[1m11s\u001b[0m 22ms/step - loss: 0.0291 - val_loss: 0.0295\n",
            "Epoch 48/50\n",
            "\u001b[1m399/399\u001b[0m \u001b[32m━━━━━━━━━━━━━━━━━━━━\u001b[0m\u001b[37m\u001b[0m \u001b[1m7s\u001b[0m 19ms/step - loss: 0.0293 - val_loss: 0.0293\n",
            "Epoch 49/50\n",
            "\u001b[1m399/399\u001b[0m \u001b[32m━━━━━━━━━━━━━━━━━━━━\u001b[0m\u001b[37m\u001b[0m \u001b[1m10s\u001b[0m 19ms/step - loss: 0.0290 - val_loss: 0.0291\n",
            "Epoch 50/50\n",
            "\u001b[1m399/399\u001b[0m \u001b[32m━━━━━━━━━━━━━━━━━━━━\u001b[0m\u001b[37m\u001b[0m \u001b[1m9s\u001b[0m 21ms/step - loss: 0.0291 - val_loss: 0.0293\n"
          ]
        }
      ]
    },
    {
      "cell_type": "code",
      "source": [
        "# Evaluate the model\n",
        "X_train_pred = model.predict(X_train)\n",
        "X_test_pred = model.predict(X_test)"
      ],
      "metadata": {
        "colab": {
          "base_uri": "https://localhost:8080/"
        },
        "id": "zpaUoKDT7ApG",
        "outputId": "36e30df2-f8d9-4d55-8034-c91be694207a"
      },
      "execution_count": 16,
      "outputs": [
        {
          "output_type": "stream",
          "name": "stdout",
          "text": [
            "\u001b[1m499/499\u001b[0m \u001b[32m━━━━━━━━━━━━━━━━━━━━\u001b[0m\u001b[37m\u001b[0m \u001b[1m4s\u001b[0m 7ms/step\n",
            "\u001b[1m125/125\u001b[0m \u001b[32m━━━━━━━━━━━━━━━━━━━━\u001b[0m\u001b[37m\u001b[0m \u001b[1m1s\u001b[0m 8ms/step\n"
          ]
        }
      ]
    },
    {
      "cell_type": "code",
      "source": [
        "# Calculate reconstruction error\n",
        "train_mse = np.mean(np.power(X_train - X_train_pred, 2), axis=1)\n",
        "test_mse = np.mean(np.power(X_test - X_test_pred, 2), axis=1)"
      ],
      "metadata": {
        "id": "EI0oe5uq7Fg3"
      },
      "execution_count": 17,
      "outputs": []
    },
    {
      "cell_type": "code",
      "source": [
        "# Set a threshold for anomaly detection\n",
        "threshold = np.percentile(train_mse, 95)\n",
        "\n",
        "# Identify anomalies\n",
        "anomalies = test_mse > threshold\n",
        "\n",
        "# Print results\n",
        "print(f'Number of anomalies: {np.sum(anomalies)}')\n",
        "print(f'Anomaly indices: {np.where(anomalies)[0]}')\n"
      ],
      "metadata": {
        "colab": {
          "base_uri": "https://localhost:8080/"
        },
        "id": "Xpjeq66m7NcE",
        "outputId": "21fd29ee-4ac6-4ef1-da7b-775f907f5083"
      },
      "execution_count": 18,
      "outputs": [
        {
          "output_type": "stream",
          "name": "stdout",
          "text": [
            "Number of anomalies: 7886\n",
            "Anomaly indices: [   1    1    4 ... 3986 3987 3987]\n"
          ]
        }
      ]
    },
    {
      "source": [
        "# Plot reconstruction error\n",
        "plt.figure(figsize=(10, 6))\n",
        "plt.hist(train_mse.flatten(), bins=50, alpha=0.6, color='b', label='Train MSE') # Flatten train_mse to a 1D array\n",
        "plt.hist(test_mse.flatten(), bins=50, alpha=0.6, color='r', label='Test MSE') # Flatten test_mse to a 1D array\n",
        "plt.axvline(threshold, color='k', linestyle='--', label='Threshold')\n",
        "plt.xlabel('Reconstruction Error')\n",
        "plt.ylabel('Frequency')\n",
        "plt.legend()\n",
        "plt.title('Reconstruction Error Histogram')\n",
        "plt.show()"
      ],
      "cell_type": "code",
      "metadata": {
        "colab": {
          "base_uri": "https://localhost:8080/",
          "height": 564
        },
        "id": "vwU6yemO4Jxj",
        "outputId": "8d291d3b-e209-4dfc-d91c-b9fe5d87e30d"
      },
      "execution_count": 20,
      "outputs": [
        {
          "output_type": "display_data",
          "data": {
            "text/plain": [
              "<Figure size 1000x600 with 1 Axes>"
            ],
            "image/png": "[encoded data removed]"
          },
          "metadata": {}
        }
      ]
    }
  ]
}